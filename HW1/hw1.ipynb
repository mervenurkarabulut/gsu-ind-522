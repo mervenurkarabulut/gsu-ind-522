{
 "cells": [
  {
   "cell_type": "markdown",
   "id": "a6e29765a61ab675",
   "metadata": {},
   "source": [
    "### ASSIGNMENT 1 ###"
   ]
  },
  {
   "cell_type": "markdown",
   "id": "33e74ae28bbdc8b6",
   "metadata": {},
   "source": [
    " ![q1a](q1a.JPG)"
   ]
  },
  {
   "cell_type": "code",
   "execution_count": 3,
   "id": "fce68da102645d5f",
   "metadata": {
    "ExecuteTime": {
     "end_time": "2025-10-06T16:36:45.402549Z",
     "start_time": "2025-10-06T16:36:45.396763Z"
    },
    "collapsed": true
   },
   "outputs": [],
   "source": [
    "def convert_from_celcius_to_fahrenheit_with_input():\n",
    "    celcius = float(input(\"Enter the temperature in celcius: \"))\n",
    "    fahrenheit = round(celcius * 1.8 + 32, 2)\n",
    "    print(\"The temperature in fahrenheit is: \", fahrenheit)"
   ]
  },
  {
   "cell_type": "code",
   "execution_count": 4,
   "id": "33aa49ffae8f8c48",
   "metadata": {
    "ExecuteTime": {
     "end_time": "2025-10-06T16:37:09.254885Z",
     "start_time": "2025-10-06T16:36:55.193519Z"
    }
   },
   "outputs": [
    {
     "name": "stdout",
     "output_type": "stream",
     "text": [
      "The temperature in fahrenheit is:  32.0\n"
     ]
    }
   ],
   "source": [
    "convert_from_celcius_to_fahrenheit_with_input()"
   ]
  },
  {
   "cell_type": "code",
   "execution_count": 5,
   "id": "2ec02e29f9cbfec7",
   "metadata": {
    "ExecuteTime": {
     "end_time": "2025-10-06T16:37:28.166801Z",
     "start_time": "2025-10-06T16:37:20.895553Z"
    }
   },
   "outputs": [
    {
     "name": "stdout",
     "output_type": "stream",
     "text": [
      "The temperature in fahrenheit is:  212.0\n"
     ]
    }
   ],
   "source": [
    "convert_from_celcius_to_fahrenheit_with_input()"
   ]
  },
  {
   "cell_type": "code",
   "execution_count": 6,
   "id": "e1a9ae367ab886b4",
   "metadata": {
    "ExecuteTime": {
     "end_time": "2025-10-06T16:37:39.778095Z",
     "start_time": "2025-10-06T16:37:36.837231Z"
    }
   },
   "outputs": [
    {
     "name": "stdout",
     "output_type": "stream",
     "text": [
      "The temperature in fahrenheit is:  -40.0\n"
     ]
    }
   ],
   "source": [
    "convert_from_celcius_to_fahrenheit_with_input()"
   ]
  },
  {
   "cell_type": "code",
   "execution_count": 7,
   "id": "18eba53a57ae778c",
   "metadata": {
    "ExecuteTime": {
     "end_time": "2025-10-06T16:37:50.840947Z",
     "start_time": "2025-10-06T16:37:48.348951Z"
    }
   },
   "outputs": [
    {
     "name": "stdout",
     "output_type": "stream",
     "text": [
      "The temperature in fahrenheit is:  98.6\n"
     ]
    }
   ],
   "source": [
    "convert_from_celcius_to_fahrenheit_with_input()"
   ]
  },
  {
   "cell_type": "markdown",
   "id": "55d0173897d606f2",
   "metadata": {},
   "source": [
    "![q1b](q1b.JPG)"
   ]
  },
  {
   "cell_type": "code",
   "execution_count": 9,
   "id": "af90e458d7d44afe",
   "metadata": {
    "ExecuteTime": {
     "end_time": "2025-10-06T16:38:48.400413Z",
     "start_time": "2025-10-06T16:38:48.393803Z"
    }
   },
   "outputs": [],
   "source": [
    "def convert_from_fahrenheit_by_array(celcius_array):\n",
    "    fahrenheit_array = [round(c * 1.8 + 32,2) for c in celcius_array]\n",
    "    print(f\"{'Celsius':<10}{'Fahrenheit':<10}\")\n",
    "    print(\"-\" * 20)\n",
    "    for i in range(len(celcius_array)):\n",
    "        print(f\"{celcius_array[i]:<10}{fahrenheit_array[i]:<10}\")"
   ]
  },
  {
   "cell_type": "code",
   "execution_count": 10,
   "id": "ab72abc0721f5312",
   "metadata": {
    "ExecuteTime": {
     "end_time": "2025-10-06T16:38:49.993730Z",
     "start_time": "2025-10-06T16:38:49.988050Z"
    }
   },
   "outputs": [
    {
     "name": "stdout",
     "output_type": "stream",
     "text": [
      "Celsius   Fahrenheit\n",
      "--------------------\n",
      "20        68.0      \n",
      "21        69.8      \n",
      "22        71.6      \n",
      "23        73.4      \n",
      "24        75.2      \n",
      "25        77.0      \n",
      "26        78.8      \n",
      "27        80.6      \n",
      "28        82.4      \n",
      "29        84.2      \n",
      "30        86.0      \n"
     ]
    }
   ],
   "source": [
    "celcius_array = [20,21,22,23,24,25,26,27,28,29,30]\n",
    "convert_from_fahrenheit_by_array(celcius_array)"
   ]
  },
  {
   "cell_type": "markdown",
   "id": "ffb9b5c528e5ccf",
   "metadata": {},
   "source": [
    "![q2](q2.JPG)"
   ]
  },
  {
   "cell_type": "markdown",
   "id": "da20bb784ecff298",
   "metadata": {},
   "source": [
    "By hand:\n",
    "\n",
    "    n=4:\n",
    "    s=0\n",
    "    for k in [1,4]\n",
    "        s = s + 1 / (k^2)\n",
    "    end\n",
    "\n",
    "    k=1 => s = 0 + 1/(1) = 1\n",
    "    k=2 => s = 1 + 1/(4) = 5/4\n",
    "    k=3 => s = 5/4 + 1/(9) = 49/36\n",
    "    k=4 => s = 49/36 + 1/(16) = 205/144"
   ]
  },
  {
   "cell_type": "code",
   "execution_count": 17,
   "id": "21d3c3c5631cc51e",
   "metadata": {
    "ExecuteTime": {
     "end_time": "2025-10-06T16:52:07.646805Z",
     "start_time": "2025-10-06T16:52:07.637585Z"
    }
   },
   "outputs": [],
   "source": [
    "def calculate_for_n(n):\n",
    "    s=0\n",
    "    for k in range(1,n+1):\n",
    "        s += 1 / (k ** 2)\n",
    "    print(\"Sum is:{}\".format(s))"
   ]
  },
  {
   "cell_type": "code",
   "execution_count": 19,
   "id": "4de82a0207f5c116",
   "metadata": {
    "ExecuteTime": {
     "end_time": "2025-10-06T16:54:07.881865Z",
     "start_time": "2025-10-06T16:54:06.765107Z"
    }
   },
   "outputs": [
    {
     "name": "stdout",
     "output_type": "stream",
     "text": [
      "Sum is:1.5497677311665408\n",
      "Sum is:1.6349839001848923\n",
      "Sum is:1.6439345666815615\n",
      "Sum is:1.6449240668982423\n",
      "Sum is:1.64493306684877\n",
      "Sum is:1.6449339668472596\n"
     ]
    }
   ],
   "source": [
    "calculate_for_n(10)\n",
    "calculate_for_n(100)\n",
    "calculate_for_n(1000)\n",
    "calculate_for_n(100000)\n",
    "calculate_for_n(1000000)\n",
    "calculate_for_n(10000000)"
   ]
  },
  {
   "cell_type": "markdown",
   "id": "74f9567fcfc558f9",
   "metadata": {},
   "source": [
    "As seen above the given series converges to 1.644934 ≈ π²/6 ."
   ]
  },
  {
   "cell_type": "markdown",
   "id": "123468edc62626f4",
   "metadata": {},
   "source": [
    "    The given series is:"
   ]
  },
  {
   "cell_type": "markdown",
   "id": "76275b3fbfc9140",
   "metadata": {},
   "source": [
    "$$\n",
    "S_n = \\sum_{k=1}^{n} \\frac{1}{k^2} = 1 + \\frac{1}{4} + \\frac{1}{9} + \\frac{1}{16} + \\frac{1}{25} + \\cdots\n",
    "$$\n"
   ]
  },
  {
   "cell_type": "markdown",
   "id": "8bdf134f5338d66a",
   "metadata": {},
   "source": [
    "    Taking the limit of the series as n goes to infinity:\n",
    "\n",
    "$$\n",
    "\\lim_{n \\to \\infty} S_n = \\frac{\\pi^2}{6} \\approx 1.644934\n",
    "$$"
   ]
  },
  {
   "cell_type": "markdown",
   "id": "1055dc8b2c134b79",
   "metadata": {},
   "source": [
    "    This is known as the Basel problem."
   ]
  },
  {
   "cell_type": "markdown",
   "id": "1186cc760b51a2fc",
   "metadata": {},
   "source": [
    "![q3](q3.JPG)"
   ]
  },
  {
   "cell_type": "markdown",
   "id": "a33152b795cf17d5",
   "metadata": {},
   "source": [
    "By hand:\n",
    "\n",
    "    v=j=3 -> i=1+1=2 then i≠3\n",
    "\n",
    "    v=j=1 -> i=2+1=3 then i=3 -> i=3+2=5, m=5+1=6\n",
    "\n",
    "    v=j=5 -> i=5+1=6 then i≠3"
   ]
  },
  {
   "cell_type": "code",
   "execution_count": 20,
   "id": "f8b0c53a4f231847",
   "metadata": {
    "ExecuteTime": {
     "end_time": "2025-10-06T17:00:45.442030Z",
     "start_time": "2025-10-06T17:00:45.434697Z"
    }
   },
   "outputs": [
    {
     "name": "stdout",
     "output_type": "stream",
     "text": [
      " i | j | m \n",
      "---|---|---\n",
      " 2 | 3 | None\n",
      " 5 | 1 | 6\n",
      " 6 | 5 | None\n"
     ]
    }
   ],
   "source": [
    "v = [3, 1, 5]\n",
    "i = 1\n",
    "table = []\n",
    "\n",
    "for j in v:\n",
    "    i = i + 1\n",
    "    if i == 3:\n",
    "        i = i + 2\n",
    "        m = i + j\n",
    "    else:\n",
    "        m = None\n",
    "    table.append((i, j, m))\n",
    "\n",
    "print(\" i | j | m \")\n",
    "print(\"---|---|---\")\n",
    "for row in table:\n",
    "    print(f\"{row[0]:2} | {row[1]:1} | {row[2]}\")"
   ]
  },
  {
   "cell_type": "markdown",
   "id": "c413a3ce3a291a6b",
   "metadata": {},
   "source": [
    "![q4](q4.JPG)"
   ]
  },
  {
   "cell_type": "code",
   "execution_count": 21,
   "id": "8d6b167eb489e5a3",
   "metadata": {
    "ExecuteTime": {
     "end_time": "2025-10-06T17:12:47.261054Z",
     "start_time": "2025-10-06T17:12:47.254924Z"
    }
   },
   "outputs": [],
   "source": [
    "def calculate_total_charge(consumption):\n",
    "    if consumption <= 500:\n",
    "        cost = consumption * 0.02 # 2 cents per unit\n",
    "    elif consumption <= 1000:\n",
    "        cost = 10 + (consumption - 500) * 0.05   # 10$ for first 500, 5 cents for excess\n",
    "    else:  # consumption > 1000\n",
    "        cost = 35 + (consumption - 1000) * 0.10  # 35$ for first 1000, 10 cents for excess\n",
    "    total_charge = cost + 5\n",
    "    print(f\"Consumption: {consumption} units --> Total charge: ${total_charge:.2f}\")"
   ]
  },
  {
   "cell_type": "code",
   "execution_count": 22,
   "id": "92ce8b2b60ba83e4",
   "metadata": {
    "ExecuteTime": {
     "end_time": "2025-10-06T17:13:17.142072Z",
     "start_time": "2025-10-06T17:13:17.136801Z"
    }
   },
   "outputs": [
    {
     "name": "stdout",
     "output_type": "stream",
     "text": [
      "Consumption: 200 units --> Total charge: $9.00\n",
      "Consumption: 500 units --> Total charge: $15.00\n",
      "Consumption: 700 units --> Total charge: $25.00\n",
      "Consumption: 1000 units --> Total charge: $40.00\n",
      "Consumption: 1500 units --> Total charge: $90.00\n"
     ]
    }
   ],
   "source": [
    "consumptions = [200, 500, 700, 1000, 1500]\n",
    "for unit in consumptions:\n",
    "    calculate_total_charge(unit)"
   ]
  },
  {
   "cell_type": "markdown",
   "id": "a898fee69084cd6",
   "metadata": {},
   "source": [
    "![q5](q5.JPG)"
   ]
  },
  {
   "cell_type": "code",
   "execution_count": 23,
   "id": "a01b0d3c8d143971",
   "metadata": {
    "ExecuteTime": {
     "end_time": "2025-10-06T17:18:52.111459Z",
     "start_time": "2025-10-06T17:18:50.766009Z"
    }
   },
   "outputs": [
    {
     "name": "stdout",
     "output_type": "stream",
     "text": [
      "Year 1790: Population ≈ 4,059,821\n",
      "Year 1800: Population ≈ 5,512,360\n",
      "Year 1810: Population ≈ 7,464,515\n",
      "Year 1820: Population ≈ 10,071,699\n",
      "Year 1830: Population ≈ 13,524,627\n",
      "Year 1840: Population ≈ 18,047,215\n",
      "Year 1850: Population ≈ 23,885,550\n",
      "Year 1860: Population ≈ 31,282,940\n",
      "Year 1870: Population ≈ 40,437,014\n",
      "Year 1880: Population ≈ 51,439,659\n",
      "Year 1890: Population ≈ 64,210,378\n",
      "Year 1900: Population ≈ 78,446,149\n",
      "Year 1910: Population ≈ 93,617,527\n",
      "Year 1920: Population ≈ 109,030,794\n",
      "Year 1930: Population ≈ 123,947,285\n",
      "Year 1940: Population ≈ 137,719,544\n",
      "Year 1950: Population ≈ 149,893,845\n",
      "Year 1960: Population ≈ 160,248,473\n",
      "Year 1970: Population ≈ 168,770,426\n",
      "Year 1980: Population ≈ 175,596,210\n",
      "Year 1990: Population ≈ 180,945,498\n",
      "Year 2000: Population ≈ 185,066,481\n"
     ]
    },
    {
     "data": {
      "image/png": "[encoded data removed]",
      "text/plain": [
       "<Figure size 640x480 with 1 Axes>"
      ]
     },
     "metadata": {},
     "output_type": "display_data"
    }
   ],
   "source": [
    "import numpy as np\n",
    "import matplotlib.pyplot as plt\n",
    "\n",
    "def population(t):\n",
    "    return 197273000 / (1 + np.exp(-0.03134 * (t - 1913.25)))\n",
    "\n",
    "years = np.arange(1790, 2001, 10)\n",
    "pop_values = population(years) # population array\n",
    "\n",
    "for year, pop in zip(years, pop_values):\n",
    "    print(f\"Year {year}: Population ≈ {int(pop):,}\")\n",
    "\n",
    "plt.plot(years, pop_values, marker='o')\n",
    "plt.xlabel(\"Year\")\n",
    "plt.ylabel(\"Population\")\n",
    "plt.title(\"US Population (1790-2000)\")\n",
    "plt.grid(True)\n",
    "plt.show()"
   ]
  },
  {
   "cell_type": "code",
   "execution_count": 24,
   "id": "d431c8eeccd28736",
   "metadata": {
    "ExecuteTime": {
     "end_time": "2025-10-06T17:19:19.045614Z",
     "start_time": "2025-10-06T17:19:19.040027Z"
    }
   },
   "outputs": [
    {
     "name": "stdout",
     "output_type": "stream",
     "text": [
      "Population does not reach a true steady state within given range.\n"
     ]
    }
   ],
   "source": [
    "# Steady state check\n",
    "delta = np.diff(pop_values)\n",
    "steady_state_years = years[1:][delta < 1]  # check if the diff is less than 1 person\n",
    "if len(steady_state_years) > 0:\n",
    "    print(\"Population approximately reaches steady state around years:\", steady_state_years)\n",
    "else:\n",
    "    print(\"Population does not reach a true steady state within given range.\")"
   ]
  },
  {
   "cell_type": "markdown",
   "id": "fb20f4ab6c9f32fc",
   "metadata": {},
   "source": [
    "![q6](q6.JPG)"
   ]
  },
  {
   "cell_type": "code",
   "execution_count": 25,
   "id": "343cde1af2330462",
   "metadata": {
    "ExecuteTime": {
     "end_time": "2025-10-06T17:29:59.885967Z",
     "start_time": "2025-10-06T17:29:59.878452Z"
    }
   },
   "outputs": [],
   "source": [
    "import cmath\n",
    "import math\n",
    "\n",
    "def solve_quadratic(a, b, c):\n",
    "    if a == 0:\n",
    "        if b == 0:\n",
    "            if c == 0:\n",
    "                print(\"Solution indeterminate\")\n",
    "            else:\n",
    "                print(\"There is no solution\")\n",
    "        else:\n",
    "            # Linear equation bx + c = 0\n",
    "            x = -c / b\n",
    "            print(f\"Linear equation, one root: x = {x}\")\n",
    "    else:\n",
    "        discriminant = b**2 - 4*a*c\n",
    "\n",
    "        if discriminant < 0:\n",
    "            print(\"Complex roots\")\n",
    "            x1 = (-b + cmath.sqrt(discriminant)) / (2*a)\n",
    "            x2 = (-b - cmath.sqrt(discriminant)) / (2*a)\n",
    "            print(f\"x1 = {x1}, x2 = {x2}\")\n",
    "        elif discriminant == 0:\n",
    "            x = -b / (2*a)\n",
    "            print(f\"Equal roots: x = {x}\")\n",
    "        else:\n",
    "            x1 = (-b + math.sqrt(discriminant)) / (2*a)\n",
    "            x2 = (-b - math.sqrt(discriminant)) / (2*a)\n",
    "            print(f\"Distinct real roots: x1 = {x1}, x2 = {x2}\")"
   ]
  },
  {
   "cell_type": "code",
   "execution_count": 26,
   "id": "becec361f2162a1e",
   "metadata": {
    "ExecuteTime": {
     "end_time": "2025-10-06T17:30:10.792616Z",
     "start_time": "2025-10-06T17:30:10.787199Z"
    }
   },
   "outputs": [
    {
     "name": "stdout",
     "output_type": "stream",
     "text": [
      "Complex roots\n",
      "x1 = (-0.5+0.8660254037844386j), x2 = (-0.5-0.8660254037844386j)\n"
     ]
    }
   ],
   "source": [
    "solve_quadratic(1, 1, 1)"
   ]
  },
  {
   "cell_type": "code",
   "execution_count": 27,
   "id": "9fdf62b629f84dcc",
   "metadata": {
    "ExecuteTime": {
     "end_time": "2025-10-06T17:30:22.731036Z",
     "start_time": "2025-10-06T17:30:22.724385Z"
    }
   },
   "outputs": [
    {
     "name": "stdout",
     "output_type": "stream",
     "text": [
      "Equal roots: x = -1.0\n"
     ]
    }
   ],
   "source": [
    "solve_quadratic(2, 4, 2)"
   ]
  },
  {
   "cell_type": "code",
   "execution_count": 28,
   "id": "fea520eb89b8b03f",
   "metadata": {
    "ExecuteTime": {
     "end_time": "2025-10-06T17:30:34.352001Z",
     "start_time": "2025-10-06T17:30:34.346986Z"
    }
   },
   "outputs": [
    {
     "name": "stdout",
     "output_type": "stream",
     "text": [
      "Distinct real roots: x1 = 2.0, x2 = -3.0\n"
     ]
    }
   ],
   "source": [
    "solve_quadratic(2, 2, -12)"
   ]
  },
  {
   "cell_type": "markdown",
   "id": "a6883735dd0ada35",
   "metadata": {},
   "source": [
    "![q7](q7.JPG)"
   ]
  },
  {
   "cell_type": "code",
   "execution_count": 30,
   "id": "5974f737f00f68a3",
   "metadata": {
    "ExecuteTime": {
     "end_time": "2025-10-06T17:34:59.751526Z",
     "start_time": "2025-10-06T17:34:59.606717Z"
    }
   },
   "outputs": [
    {
     "data": {
      "image/png": "[encoded data removed]",
      "text/plain": [
       "<Figure size 640x480 with 1 Axes>"
      ]
     },
     "metadata": {},
     "output_type": "display_data"
    }
   ],
   "source": [
    "x = np.linspace(-10, 10, 400)\n",
    "\n",
    "# for c = 5\n",
    "c1 = 5\n",
    "y1 = np.cosh(x / c1)\n",
    "\n",
    "# for c = 4\n",
    "c2 = 4\n",
    "y2 = np.cosh(x / c2)\n",
    "\n",
    "# Plot\n",
    "plt.plot(x, y1, label='c = 5')\n",
    "plt.plot(x, y2, label='c = 4', linestyle='--')\n",
    "plt.xlabel('x')\n",
    "plt.ylabel('y')\n",
    "plt.title('Uniform Catenary y = cosh(x/c)')\n",
    "plt.legend()\n",
    "plt.grid(True)\n",
    "plt.show()"
   ]
  },
  {
   "cell_type": "markdown",
   "id": "a182d2558b75e2e8",
   "metadata": {},
   "source": [
    "![q8](q8.JPG)"
   ]
  },
  {
   "cell_type": "markdown",
   "id": "84c6588f0e24cedc",
   "metadata": {},
   "source": [
    "### Turkish Lira Change Algorithm\n",
    "\n",
    "#### Turkish Lira\n",
    "Banknotes: 100₺, 50₺, 20₺, 10₺, 5₺, 1₺\n",
    "\n",
    "Coins: 50 kuruş (0.5₺), 25 kuruş (0.25₺), 10 kuruş (0.10₺), 5 kuruş (0.05₺), 1 kuruş (0.01₺)\n",
    "\n",
    "---\n",
    "\n",
    "#### Algorithm: Giving Change from a 100₺ Note\n",
    "\n",
    "*Start with the largest denomination to minimize total number of banknotes and coins; round fractional parts to the nearest kuruş.*\n",
    "\n",
    "*Input:* cost, 0 ≤ cost < 100₺\n",
    "\n",
    "*Step 1:* Compute total change\n",
    "- change = 100 - cost\n",
    "\n",
    "*Step 2:* Initialize counters for each denomination\n",
    "- notes_50 = notes_20 = notes_10 = notes_5 = notes_1 = 0\n",
    "- coin_50 = coin_25 = coin_10 = coin_5 = coin_1 = 0\n",
    "\n",
    "*Step 3:* Handle banknotes (largest first)\n",
    "- While change ≥ 50₺ → subtract 50, increment notes_50\n",
    "- While change ≥ 20₺ → subtract 20, increment notes_20\n",
    "- While change ≥ 10₺ → subtract 10, increment notes_10\n",
    "- While change ≥ 5₺ → subtract 5, increment notes_5\n",
    "- While change ≥ 1₺ → subtract 1, increment notes_1\n",
    "\n",
    "*Step 4:* Handle coins -> kurus = round(change * 100)\n",
    "\n",
    "- While kurus ≥ 50 → subtract 50, increment coin_50\n",
    "- While kurus ≥ 25 → subtract 25, increment coin_25\n",
    "- While kurus ≥ 10 → subtract 10, increment coin_10\n",
    "- While kurus ≥ 5 → subtract 5, increment coin_5\n",
    "- While kurus ≥ 1 → subtract 1, increment coin_1\n",
    "\n",
    "*Step 5:* Output\n",
    "- Display the number of each banknote and coin"
   ]
  },
  {
   "cell_type": "code",
   "execution_count": 42,
   "id": "45fbde2a56216a1b",
   "metadata": {
    "ExecuteTime": {
     "end_time": "2025-10-06T18:01:15.045233Z",
     "start_time": "2025-10-06T18:01:15.037788Z"
    }
   },
   "outputs": [],
   "source": [
    "def give_change(cost):\n",
    "    if cost >= 100 or cost < 0:\n",
    "        return \"Invalid cost, must be between 0 and 100₺\"\n",
    "\n",
    "    change = 100 - cost\n",
    "\n",
    "    change_dict = {\n",
    "        \"50 TL\": 0,\n",
    "        \"20 TL\": 0,\n",
    "        \"10 TL\": 0,\n",
    "        \"5 TL\": 0,\n",
    "        \"1 TL\": 0,\n",
    "        \"50 kuruş\": 0,\n",
    "        \"25 kuruş\": 0,\n",
    "        \"10 kuruş\": 0,\n",
    "        \"5 kuruş\": 0,\n",
    "        \"1 kuruş\": 0\n",
    "    }\n",
    "\n",
    "    for value, key in [(50, \"50 TL\"), (20, \"20 TL\"), (10, \"10 TL\"),\n",
    "                       (5, \"5 TL\"), (1, \"1 TL\")]:\n",
    "        count = int(change // value)\n",
    "        change -= count * value\n",
    "        change_dict[key] = count\n",
    "\n",
    "    cents = round(change * 100)\n",
    "    for value, key in [(50, \"50 kuruş\"), (25, \"25 kuruş\"), (10, \"10 kuruş\"),\n",
    "                       (5, \"5 kuruş\"), (1, \"1 kuruş\")]:\n",
    "        count = cents // value\n",
    "        cents -= count * value\n",
    "        change_dict[key] = int(count)\n",
    "\n",
    "    return change_dict"
   ]
  },
  {
   "cell_type": "code",
   "execution_count": 46,
   "id": "69c5096b6f3f82cd",
   "metadata": {
    "ExecuteTime": {
     "end_time": "2025-10-06T18:06:02.162160Z",
     "start_time": "2025-10-06T18:06:02.155106Z"
    }
   },
   "outputs": [
    {
     "name": "stdout",
     "output_type": "stream",
     "text": [
      "\n",
      "Change to give from 100 TL: 62.32 TL\n",
      "50 TL: 1\n",
      "10 TL: 1\n",
      "1 TL: 2\n",
      "25 kuruş: 1\n",
      "5 kuruş: 1\n",
      "1 kuruş: 2\n"
     ]
    }
   ],
   "source": [
    "input = 37.68\n",
    "change = 100 - input\n",
    "print(f\"\\nChange to give from 100 TL: {change} TL\")\n",
    "change = give_change(input)\n",
    "for denom, num in change.items():\n",
    "    if num != 0:\n",
    "        print(f\"{denom}: {num}\")"
   ]
  },
  {
   "cell_type": "code",
   "execution_count": 47,
   "id": "176e0d4ccca5aebf",
   "metadata": {
    "ExecuteTime": {
     "end_time": "2025-10-06T18:06:24.300607Z",
     "start_time": "2025-10-06T18:06:24.292874Z"
    }
   },
   "outputs": [
    {
     "name": "stdout",
     "output_type": "stream",
     "text": [
      "\n",
      "Change to give from 100 TL: 26.75 TL\n",
      "20 TL: 1\n",
      "5 TL: 1\n",
      "1 TL: 1\n",
      "50 kuruş: 1\n",
      "25 kuruş: 1\n"
     ]
    }
   ],
   "source": [
    "input = 73.25\n",
    "change = 100 - input\n",
    "print(f\"\\nChange to give from 100 TL: {change} TL\")\n",
    "change = give_change(input)\n",
    "for denom, num in change.items():\n",
    "    if num != 0:\n",
    "        print(f\"{denom}: {num}\")"
   ]
  },
  {
   "cell_type": "code",
   "execution_count": 49,
   "id": "1ddffbad6a288c2b",
   "metadata": {
    "ExecuteTime": {
     "end_time": "2025-10-06T18:07:19.843829Z",
     "start_time": "2025-10-06T18:07:19.837268Z"
    }
   },
   "outputs": [
    {
     "name": "stdout",
     "output_type": "stream",
     "text": [
      "\n",
      "Change to give from 100 TL: 0.01 TL\n",
      "1 kuruş: 1\n"
     ]
    }
   ],
   "source": [
    "input = 99.99\n",
    "change = round(100 - input,2)\n",
    "print(f\"\\nChange to give from 100 TL: {change} TL\")\n",
    "change = give_change(input)\n",
    "for denom, num in change.items():\n",
    "    if num != 0:\n",
    "        print(f\"{denom}: {num}\")"
   ]
  }
 ],
 "metadata": {
  "kernelspec": {
   "display_name": "Python 3",
   "language": "python",
   "name": "python3"
  },
  "language_info": {
   "codemirror_mode": {
    "name": "ipython",
    "version": 2
   },
   "file_extension": ".py",
   "mimetype": "text/x-python",
   "name": "python",
   "nbconvert_exporter": "python",
   "pygments_lexer": "ipython2",
   "version": "2.7.6"
  }
 },
 "nbformat": 4,
 "nbformat_minor": 5
}
