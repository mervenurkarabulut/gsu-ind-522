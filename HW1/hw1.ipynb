{
 "cells": [
  {
   "cell_type": "code",
   "execution_count": null,
   "id": "initial_id",
   "metadata": {
    "collapsed": true
   },
   "outputs": [],
   "source": [
    "def convert_from_celcius_to_fahrenheit_with_input():\n",
    "    celcius = float(input(\"Enter the temperature in celcius: \"))\n",
    "    fahrenheit = round(celcius * 1.8 + 32, 2)\n",
    "    print(\"The temperature in fahrenheit is: \", fahrenheit)"
   ]
  },
  {
   "metadata": {},
   "cell_type": "code",
   "outputs": [],
   "execution_count": null,
   "source": "convert_from_celcius_to_fahrenheit_with_input()",
   "id": "33aa49ffae8f8c48"
  },
  {
   "metadata": {},
   "cell_type": "code",
   "outputs": [],
   "execution_count": null,
   "source": [
    "def convert_from_fahrenheit_by_array(celcius_array):\n",
    "    fahrenheit_array = [round(c * 1.8 + 32,2) for c in celcius_array]\n",
    "    print(f\"{'Celsius':<10}{'Fahrenheit':<10}\")\n",
    "    print(\"-\" * 20)\n",
    "    for i in range(len(celcius_array)):\n",
    "        print(f\"{celcius_array[i]:<10}{fahrenheit_array[i]:<10}\")"
   ],
   "id": "af90e458d7d44afe"
  },
  {
   "metadata": {},
   "cell_type": "code",
   "outputs": [],
   "execution_count": null,
   "source": [
    "celcius_array = [20,21,22,23,24,25,26,27,28,29,30]\n",
    "convert_from_fahrenheit_by_array(celcius_array)"
   ],
   "id": "ab72abc0721f5312"
  },
  {
   "metadata": {},
   "cell_type": "markdown",
   "source": [
    "    n=4:\n",
    "    s=0\n",
    "    for k in (1,4)\n",
    "        s = s + 1 / (k^2)\n",
    "    end\n",
    "\n",
    "    k=1 => s = 0 + 1/(1) = 1\n",
    "    k=2 => s = 1 + 1/(4) = 5/4\n",
    "    k=3 => s = 5/4 + 1/(9) = 49/36\n",
    "    k=4 => s = 49/36 + 1/(16) = 205/144"
   ],
   "id": "da20bb784ecff298"
  },
  {
   "metadata": {},
   "cell_type": "code",
   "outputs": [],
   "execution_count": null,
   "source": [
    "def calculate_for_n(n):\n",
    "    s=0\n",
    "    for k in range(1,n+1):\n",
    "        s = s + (1 / (k**2))\n",
    "    return s"
   ],
   "id": "21d3c3c5631cc51e"
  },
  {
   "metadata": {},
   "cell_type": "code",
   "outputs": [],
   "execution_count": null,
   "source": "calculate_for_n(1000000)",
   "id": "4de82a0207f5c116"
  },
  {
   "metadata": {},
   "cell_type": "markdown",
   "source": " **For big values of n, this calculation goes to e.**",
   "id": "76275b3fbfc9140"
  },
  {
   "metadata": {},
   "cell_type": "code",
   "outputs": [],
   "execution_count": null,
   "source": "",
   "id": "b754fc6e2c8df882"
  }
 ],
 "metadata": {
  "kernelspec": {
   "display_name": "Python 3",
   "language": "python",
   "name": "python3"
  },
  "language_info": {
   "codemirror_mode": {
    "name": "ipython",
    "version": 2
   },
   "file_extension": ".py",
   "mimetype": "text/x-python",
   "name": "python",
   "nbconvert_exporter": "python",
   "pygments_lexer": "ipython2",
   "version": "2.7.6"
  }
 },
 "nbformat": 4,
 "nbformat_minor": 5
}
