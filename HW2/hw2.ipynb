{
 "cells": [
  {
   "metadata": {},
   "cell_type": "markdown",
   "source": "## ASSIGNMENT 2",
   "id": "fd82b06a08f491d8"
  },
  {
   "metadata": {
    "collapsed": true,
    "ExecuteTime": {
     "end_time": "2025-10-17T07:05:46.297899Z",
     "start_time": "2025-10-17T07:05:43.278514Z"
    }
   },
   "cell_type": "code",
   "source": [
    "import pandas as pd\n",
    "import numpy as np"
   ],
   "id": "4596d2c997f394b1",
   "outputs": [],
   "execution_count": 2
  },
  {
   "metadata": {},
   "cell_type": "markdown",
   "source": [
    "---\n",
    "\n",
    "### Question 1\n",
    "\n",
    "**Solve the equations**\n",
    "\\[\n",
    "\\begin{cases}\n",
    "2x - y + z = 4\\\\[4pt]\n",
    "x + y + z = 3\\\\[4pt]\n",
    "3x - y - z = 1\n",
    "\\end{cases}\n",
    "\\]\n",
    "\n",
    "using the MATLAB’s left-division operator (`/`). Check your solution by computing the residual.\n",
    "Also compute the determinant (`det`) and the condition estimator (`rcond`).\n",
    "What do you conclude?\n",
    "\n",
    "---"
   ],
   "id": "420bb7f44014d906"
  },
  {
   "metadata": {
    "ExecuteTime": {
     "end_time": "2025-10-17T09:22:13.362389Z",
     "start_time": "2025-10-17T09:22:13.328710Z"
    }
   },
   "cell_type": "code",
   "source": [
    "# A: the coefficient matrix\n",
    "# b: the constant vector\n",
    "A = np.array([[2, -1,  1],\n",
    "              [1,  1,  1],\n",
    "              [3, -1, -1]], dtype=float)\n",
    "b = np.array([4, 3, 1], dtype=float)\n",
    "\n",
    "# Ax = b\n",
    "x = np.linalg.solve(A, b)\n",
    "\n",
    "# compute residual r and its norm\n",
    "r = A @ x - b\n",
    "residual_norm = np.linalg.norm(r)\n",
    "\n",
    "# compute determinant and condition estimator\n",
    "det_A = np.linalg.det(A)\n",
    "cond_A = np.linalg.cond(A, 2)\n",
    "rcond_A = 1 / cond_A  # reciprocal condition estimate\n",
    "\n",
    "print(\"Solution vector x:\\n\", x)\n",
    "print(\"\\nResidual vector r:\\n\", r)\n",
    "print(\"\\nResidual norm ||r|| =\\n\", residual_norm)\n",
    "print(\"\\nDeterminant det(A) =\", det_A)\n",
    "print(\"Condition number cond(A) =\", cond_A)\n",
    "print(\"Reciprocal condition estimate rcond(A) =\", rcond_A)"
   ],
   "id": "e0e7f2abdf05b16e",
   "outputs": [
    {
     "name": "stdout",
     "output_type": "stream",
     "text": [
      "Solution vector x:\n",
      " [1. 0. 2.]\n",
      "\n",
      "Residual vector r:\n",
      " [0. 0. 0.]\n",
      "\n",
      "Residual norm ||r|| =\n",
      " 0.0\n",
      "\n",
      "Determinant det(A) = -7.999999999999998\n",
      "Condition number cond(A) = 3.577608106737146\n",
      "Reciprocal condition estimate rcond(A) = 0.27951636125736007\n"
     ]
    }
   ],
   "execution_count": 8
  },
  {
   "metadata": {
    "ExecuteTime": {
     "end_time": "2025-10-17T09:23:18.830744Z",
     "start_time": "2025-10-17T09:23:18.820613Z"
    }
   },
   "cell_type": "code",
   "source": [
    "# comments based on the results\n",
    "if rcond_A > 1e-3:\n",
    "    print(\"\\nThe system is well-conditioned; the solution is reliable.\")\n",
    "else:\n",
    "    print(\"\\nThe system is ill-conditioned; numerical errors may be significant.\")"
   ],
   "id": "84e1a3e6da5b9f18",
   "outputs": [
    {
     "name": "stdout",
     "output_type": "stream",
     "text": [
      "\n",
      "The system is well-conditioned; the solution is reliable.\n"
     ]
    }
   ],
   "execution_count": 9
  },
  {
   "metadata": {},
   "cell_type": "markdown",
   "source": [
    "---\n",
    "\n",
    "### Question 2\n",
    "\n",
    "This problem, suggested by R.V. Andree, demonstrates ill-conditioning (where small changes in the coefficients cause large changes in the solution). Use the MATLAB left division operator ( / ) to show that the solution of the system:\n",
    "\n",
    "\n",
    "\\begin{cases}\n",
    "x + 5.000\\,y = 17.0\\\\[2pt]\n",
    "1.5\\,x + 7.501\\,y = 25.503\n",
    "\\end{cases}\n",
    "\n",
    "\n",
    "Compute the residual.\n",
    "\n",
    "Then change the right-hand side of to `25.501`, `25.502`, `25.504`, etc. and compute the new solutions and residuals.\n",
    "\n",
    "If the coefficients are subject to experimental errors, the solution is clearly meaningless. Use `rcond` to find the condition estimator and `det` to compute the determinant. **Do these values confirm ill conditioning?**\n",
    "\n",
    "Another way to anticipate ill conditioning is to perform a `sensitivity analysis` on the coefficients: change them all in turn by the same small percentage, and observe what effect this has on the solution.\n",
    "\n",
    "---\n"
   ],
   "id": "b43b4d489fa9c19a"
  },
  {
   "metadata": {
    "ExecuteTime": {
     "end_time": "2025-10-17T09:57:18.751249Z",
     "start_time": "2025-10-17T09:57:18.737753Z"
    }
   },
   "cell_type": "code",
   "source": [
    "A = np.array([[1.0, 5.000],\n",
    "              [1.5, 7.501]], dtype=float)\n",
    "b = np.array([17.0, 25.503], dtype=float)\n",
    "\n",
    "x = np.linalg.solve(A, b)\n",
    "r = A @ x - b\n",
    "\n",
    "print(\"Original solution (x, y):\", x)\n",
    "print(\"Residual:\", r)"
   ],
   "id": "16594f3ab99f17a4",
   "outputs": [
    {
     "name": "stdout",
     "output_type": "stream",
     "text": [
      "Original solution (x, y): [2. 3.]\n",
      "Residual: [0. 0.]\n"
     ]
    }
   ],
   "execution_count": 18
  },
  {
   "metadata": {
    "ExecuteTime": {
     "end_time": "2025-10-17T09:57:30.331522Z",
     "start_time": "2025-10-17T09:57:30.316857Z"
    }
   },
   "cell_type": "code",
   "source": [
    "b_changes = [25.501, 25.502, 25.504]\n",
    "for b_changed in b_changes:\n",
    "    b_new = np.array([17.0, b_changed])\n",
    "    x_new = np.linalg.solve(A, b_new)\n",
    "    r_new = A @ x_new - b_new\n",
    "    print(f\"\\nRight-hand side = {b_new}\")\n",
    "    print(\"Solution (x, y):\", x_new)\n",
    "    print(\"Residual:\", r_new)"
   ],
   "id": "48a9d9a70c6092cc",
   "outputs": [
    {
     "name": "stdout",
     "output_type": "stream",
     "text": [
      "\n",
      "Right-hand side = [17.    25.501]\n",
      "Solution (x, y): [12.  1.]\n",
      "Residual: [ 0.00000000e+00 -3.55271368e-15]\n",
      "\n",
      "Right-hand side = [17.    25.502]\n",
      "Solution (x, y): [7. 2.]\n",
      "Residual: [0. 0.]\n",
      "\n",
      "Right-hand side = [17.    25.504]\n",
      "Solution (x, y): [-3.  4.]\n",
      "Residual: [0. 0.]\n"
     ]
    }
   ],
   "execution_count": 19
  },
  {
   "metadata": {
    "ExecuteTime": {
     "end_time": "2025-10-17T09:57:46.022127Z",
     "start_time": "2025-10-17T09:57:46.013369Z"
    }
   },
   "cell_type": "code",
   "source": [
    "det_A = np.linalg.det(A)\n",
    "cond_A = np.linalg.cond(A, 2)\n",
    "rcond_A = 1 / cond_A\n",
    "\n",
    "print(\"\\nDeterminant det(A) =\", det_A)\n",
    "print(\"Condition number cond(A) =\", cond_A)\n",
    "print(\"Reciprocal condition estimate rcond(A) =\", rcond_A)"
   ],
   "id": "95c84d856c956d79",
   "outputs": [
    {
     "name": "stdout",
     "output_type": "stream",
     "text": [
      "\n",
      "Determinant det(A) = 0.00099999999999989\n",
      "Condition number cond(A) = 84515.00098783901\n",
      "Reciprocal condition estimate rcond(A) = 1.1832218994399485e-05\n"
     ]
    }
   ],
   "execution_count": 20
  },
  {
   "metadata": {
    "ExecuteTime": {
     "end_time": "2025-10-17T10:09:44.156391Z",
     "start_time": "2025-10-17T10:09:44.145165Z"
    }
   },
   "cell_type": "code",
   "source": [
    "# sensitivity analysis: change each coefficient by +0.1%\n",
    "change = 0.001\n",
    "print(\"\\nSensitivity Analysis\")\n",
    "print(\"\\nSolutions after increasing the values of A by 0.1%:\\n\")\n",
    "for i in range(A.shape[0]):\n",
    "    for j in range(A.shape[1]):\n",
    "        A_changed = A.copy()\n",
    "        A_changed[i,j] *= (1 + change)\n",
    "        x_changed = np.linalg.solve(A_changed, b)\n",
    "        print(f\"The new value of A[{i},{j}]={round(A_changed[i,j],3)} -> solution: {x_changed}\")"
   ],
   "id": "a44bb38785828181",
   "outputs": [
    {
     "name": "stdout",
     "output_type": "stream",
     "text": [
      "\n",
      "Sensitivity Analysis\n",
      "\n",
      "Solutions after increasing the values of A by 0.1%:\n",
      "\n",
      "The new value of A[0,0]=1.001 -> solution: [0.23526644 3.35289966]\n",
      "The new value of A[0,1]=5.005 -> solution: [19.31       -0.46153846]\n",
      "The new value of A[1,0]=1.501 -> solution: [-0.30769231  3.46153846]\n",
      "The new value of A[1,1]=7.509 -> solution: [15.23550171  0.35289966]\n"
     ]
    }
   ],
   "execution_count": 38
  },
  {
   "metadata": {},
   "cell_type": "markdown",
   "source": [
    "---\n",
    "\n",
    "### Results:\n",
    "\n",
    "1. **Original system**: The solution is \\(x,y) = (2,3\\) with a residual close to zero, which confirms that the solution satisfies the equations.\n",
    "\n",
    "2. **Small changes in the right-hand side**:\n",
    "   - Changing the second equation's right-hand side from `25.503` → `25.501` produces a noticeably different solution.\n",
    "   - Further small changes (`25.502`, `25.504`) also change the solution significantly.\n",
    "   - This shows the system is *extremely sensitive* to tiny perturbations, and the system is *ill-conditioned*.\n",
    "\n",
    "3. **Determinant and condition number**:\n",
    "   - `det(A)` is small, indicating the matrix is near singular.\n",
    "   - `cond(A)` is very large and `rcond` is very small (near 0), confirming that the system is *ill-conditioned*.\n",
    "\n",
    "4. **Sensitivity analysis on coefficients**:\n",
    "   - Increasing any single coefficient by 0.1% leads to large variations in the solution, further demonstrating the system’s sensitivity.\n",
    "\n",
    "**Conclusion:**\n",
    "The system is ill-conditioned. Even very small changes or errors in coefficients or measurements can produce completely unreliable solutions.\n",
    "\n",
    "---\n"
   ],
   "id": "46379925b43d830e"
  },
  {
   "metadata": {},
   "cell_type": "markdown",
   "source": [
    "---\n",
    "\n",
    "### Question 3\n",
    "\n",
    "If you are familiar with Gauss reduction it is an excellent programming exercise to code a Gauss reduction directly with operations on the rows of the augmented coefficient matrix. See if you can write a function\n",
    "\n",
    "```python\n",
    "x = mygauss(a, b)\n",
    "```\n",
    "\n",
    "to solve the general system **Ax = b**. Skillful use of the colon operator in the row operations can reduce the code to a few lines! Test it on **A** and **b** with random entries, and on the systems in Questions 1 and 2.\n",
    "\n",
    "---"
   ],
   "id": "c211213e481e8700"
  },
  {
   "metadata": {},
   "cell_type": "code",
   "outputs": [],
   "execution_count": null,
   "source": "",
   "id": "eaf1a2d542da5a6a"
  },
  {
   "metadata": {},
   "cell_type": "code",
   "outputs": [],
   "execution_count": null,
   "source": "",
   "id": "c73174c4f58278ac"
  },
  {
   "metadata": {},
   "cell_type": "code",
   "outputs": [],
   "execution_count": null,
   "source": "",
   "id": "754923147f20c874"
  },
  {
   "metadata": {},
   "cell_type": "code",
   "outputs": [],
   "execution_count": null,
   "source": "",
   "id": "e0413cfb196d8a54"
  }
 ],
 "metadata": {
  "kernelspec": {
   "display_name": "Python 3",
   "language": "python",
   "name": "python3"
  },
  "language_info": {
   "codemirror_mode": {
    "name": "ipython",
    "version": 2
   },
   "file_extension": ".py",
   "mimetype": "text/x-python",
   "name": "python",
   "nbconvert_exporter": "python",
   "pygments_lexer": "ipython2",
   "version": "2.7.6"
  }
 },
 "nbformat": 4,
 "nbformat_minor": 5
}
