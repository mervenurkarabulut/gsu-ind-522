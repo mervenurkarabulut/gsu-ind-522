{
 "cells": [
  {
   "cell_type": "markdown",
   "id": "fd82b06a08f491d8",
   "metadata": {},
   "source": [
    "## ASSIGNMENT 2"
   ]
  },
  {
   "cell_type": "code",
   "execution_count": 1,
   "id": "4596d2c997f394b1",
   "metadata": {
    "ExecuteTime": {
     "end_time": "2025-10-17T12:59:35.662380Z",
     "start_time": "2025-10-17T12:59:35.654024Z"
    },
    "collapsed": true
   },
   "outputs": [],
   "source": [
    "import pandas as pd\n",
    "import numpy as np\n",
    "import math"
   ]
  },
  {
   "cell_type": "markdown",
   "id": "420bb7f44014d906",
   "metadata": {},
   "source": [
    "---\n",
    "\n",
    "### Question 1\n",
    "\n",
    "**Solve the equations**\n",
    "\\[\n",
    "\\begin{cases}\n",
    "2x - y + z = 4\\\\[4pt]\n",
    "x + y + z = 3\\\\[4pt]\n",
    "3x - y - z = 1\n",
    "\\end{cases}\n",
    "\\]\n",
    "\n",
    "using the MATLAB’s left-division operator (`/`). Check your solution by computing the residual.\n",
    "Also compute the determinant (`det`) and the condition estimator (`rcond`).\n",
    "What do you conclude?\n",
    "\n",
    "---"
   ]
  },
  {
   "cell_type": "code",
   "execution_count": 8,
   "id": "e0e7f2abdf05b16e",
   "metadata": {
    "ExecuteTime": {
     "end_time": "2025-10-17T09:22:13.362389Z",
     "start_time": "2025-10-17T09:22:13.328710Z"
    }
   },
   "outputs": [
    {
     "name": "stdout",
     "output_type": "stream",
     "text": [
      "Solution vector x:\n",
      " [1. 0. 2.]\n",
      "\n",
      "Residual vector r:\n",
      " [0. 0. 0.]\n",
      "\n",
      "Residual norm ||r|| =\n",
      " 0.0\n",
      "\n",
      "Determinant det(A) = -7.999999999999998\n",
      "Condition number cond(A) = 3.577608106737146\n",
      "Reciprocal condition estimate rcond(A) = 0.27951636125736007\n"
     ]
    }
   ],
   "source": [
    "# A: the coefficient matrix\n",
    "# b: the constant vector\n",
    "A = np.array([[2, -1,  1],\n",
    "              [1,  1,  1],\n",
    "              [3, -1, -1]], dtype=float)\n",
    "b = np.array([4, 3, 1], dtype=float)\n",
    "\n",
    "# Ax = b\n",
    "x = np.linalg.solve(A, b)\n",
    "\n",
    "# compute residual r and its norm\n",
    "r = A @ x - b\n",
    "residual_norm = np.linalg.norm(r)\n",
    "\n",
    "# compute determinant and condition estimator\n",
    "det_A = np.linalg.det(A)\n",
    "cond_A = np.linalg.cond(A, 2)\n",
    "rcond_A = 1 / cond_A  # reciprocal condition estimate\n",
    "\n",
    "print(\"Solution vector x:\\n\", x)\n",
    "print(\"\\nResidual vector r:\\n\", r)\n",
    "print(\"\\nResidual norm ||r|| =\\n\", residual_norm)\n",
    "print(\"\\nDeterminant det(A) =\", det_A)\n",
    "print(\"Condition number cond(A) =\", cond_A)\n",
    "print(\"Reciprocal condition estimate rcond(A) =\", rcond_A)"
   ]
  },
  {
   "cell_type": "code",
   "execution_count": 9,
   "id": "84e1a3e6da5b9f18",
   "metadata": {
    "ExecuteTime": {
     "end_time": "2025-10-17T09:23:18.830744Z",
     "start_time": "2025-10-17T09:23:18.820613Z"
    }
   },
   "outputs": [
    {
     "name": "stdout",
     "output_type": "stream",
     "text": [
      "\n",
      "The system is well-conditioned; the solution is reliable.\n"
     ]
    }
   ],
   "source": [
    "# comments based on the results\n",
    "if rcond_A > 1e-3:\n",
    "    print(\"\\nThe system is well-conditioned; the solution is reliable.\")\n",
    "else:\n",
    "    print(\"\\nThe system is ill-conditioned; numerical errors may be significant.\")"
   ]
  },
  {
   "cell_type": "markdown",
   "id": "b43b4d489fa9c19a",
   "metadata": {},
   "source": [
    "---\n",
    "\n",
    "### Question 2\n",
    "\n",
    "This problem, suggested by R.V. Andree, demonstrates ill-conditioning (where small changes in the coefficients cause large changes in the solution). Use the MATLAB left division operator ( / ) to show that the solution of the system:\n",
    "\n",
    "\n",
    "\\begin{cases}\n",
    "x + 5.000\\,y = 17.0\\\\[2pt]\n",
    "1.5\\,x + 7.501\\,y = 25.503\n",
    "\\end{cases}\n",
    "\n",
    "\n",
    "Compute the residual.\n",
    "\n",
    "Then change the right-hand side of to `25.501`, `25.502`, `25.504`, etc. and compute the new solutions and residuals.\n",
    "\n",
    "If the coefficients are subject to experimental errors, the solution is clearly meaningless. Use `rcond` to find the condition estimator and `det` to compute the determinant. **Do these values confirm ill conditioning?**\n",
    "\n",
    "Another way to anticipate ill conditioning is to perform a `sensitivity analysis` on the coefficients: change them all in turn by the same small percentage, and observe what effect this has on the solution.\n",
    "\n",
    "---\n"
   ]
  },
  {
   "cell_type": "code",
   "execution_count": 18,
   "id": "16594f3ab99f17a4",
   "metadata": {
    "ExecuteTime": {
     "end_time": "2025-10-17T09:57:18.751249Z",
     "start_time": "2025-10-17T09:57:18.737753Z"
    }
   },
   "outputs": [
    {
     "name": "stdout",
     "output_type": "stream",
     "text": [
      "Original solution (x, y): [2. 3.]\n",
      "Residual: [0. 0.]\n"
     ]
    }
   ],
   "source": [
    "A = np.array([[1.0, 5.000],\n",
    "              [1.5, 7.501]], dtype=float)\n",
    "b = np.array([17.0, 25.503], dtype=float)\n",
    "\n",
    "x = np.linalg.solve(A, b)\n",
    "r = A @ x - b\n",
    "\n",
    "print(\"Original solution (x, y):\", x)\n",
    "print(\"Residual:\", r)"
   ]
  },
  {
   "cell_type": "code",
   "execution_count": 19,
   "id": "48a9d9a70c6092cc",
   "metadata": {
    "ExecuteTime": {
     "end_time": "2025-10-17T09:57:30.331522Z",
     "start_time": "2025-10-17T09:57:30.316857Z"
    }
   },
   "outputs": [
    {
     "name": "stdout",
     "output_type": "stream",
     "text": [
      "\n",
      "Right-hand side = [17.    25.501]\n",
      "Solution (x, y): [12.  1.]\n",
      "Residual: [ 0.00000000e+00 -3.55271368e-15]\n",
      "\n",
      "Right-hand side = [17.    25.502]\n",
      "Solution (x, y): [7. 2.]\n",
      "Residual: [0. 0.]\n",
      "\n",
      "Right-hand side = [17.    25.504]\n",
      "Solution (x, y): [-3.  4.]\n",
      "Residual: [0. 0.]\n"
     ]
    }
   ],
   "source": [
    "b_changes = [25.501, 25.502, 25.504]\n",
    "for b_changed in b_changes:\n",
    "    b_new = np.array([17.0, b_changed])\n",
    "    x_new = np.linalg.solve(A, b_new)\n",
    "    r_new = A @ x_new - b_new\n",
    "    print(f\"\\nRight-hand side = {b_new}\")\n",
    "    print(\"Solution (x, y):\", x_new)\n",
    "    print(\"Residual:\", r_new)"
   ]
  },
  {
   "cell_type": "code",
   "execution_count": 20,
   "id": "95c84d856c956d79",
   "metadata": {
    "ExecuteTime": {
     "end_time": "2025-10-17T09:57:46.022127Z",
     "start_time": "2025-10-17T09:57:46.013369Z"
    }
   },
   "outputs": [
    {
     "name": "stdout",
     "output_type": "stream",
     "text": [
      "\n",
      "Determinant det(A) = 0.00099999999999989\n",
      "Condition number cond(A) = 84515.00098783901\n",
      "Reciprocal condition estimate rcond(A) = 1.1832218994399485e-05\n"
     ]
    }
   ],
   "source": [
    "det_A = np.linalg.det(A)\n",
    "cond_A = np.linalg.cond(A, 2)\n",
    "rcond_A = 1 / cond_A\n",
    "\n",
    "print(\"\\nDeterminant det(A) =\", det_A)\n",
    "print(\"Condition number cond(A) =\", cond_A)\n",
    "print(\"Reciprocal condition estimate rcond(A) =\", rcond_A)"
   ]
  },
  {
   "cell_type": "code",
   "execution_count": 38,
   "id": "a44bb38785828181",
   "metadata": {
    "ExecuteTime": {
     "end_time": "2025-10-17T10:09:44.156391Z",
     "start_time": "2025-10-17T10:09:44.145165Z"
    }
   },
   "outputs": [
    {
     "name": "stdout",
     "output_type": "stream",
     "text": [
      "\n",
      "Sensitivity Analysis\n",
      "\n",
      "Solutions after increasing the values of A by 0.1%:\n",
      "\n",
      "The new value of A[0,0]=1.001 -> solution: [0.23526644 3.35289966]\n",
      "The new value of A[0,1]=5.005 -> solution: [19.31       -0.46153846]\n",
      "The new value of A[1,0]=1.501 -> solution: [-0.30769231  3.46153846]\n",
      "The new value of A[1,1]=7.509 -> solution: [15.23550171  0.35289966]\n"
     ]
    }
   ],
   "source": [
    "# sensitivity analysis: change each coefficient by +0.1%\n",
    "change = 0.001\n",
    "print(\"\\nSensitivity Analysis\")\n",
    "print(\"\\nSolutions after increasing the values of A by 0.1%:\\n\")\n",
    "for i in range(A.shape[0]):\n",
    "    for j in range(A.shape[1]):\n",
    "        A_changed = A.copy()\n",
    "        A_changed[i,j] *= (1 + change)\n",
    "        x_changed = np.linalg.solve(A_changed, b)\n",
    "        print(f\"The new value of A[{i},{j}]={round(A_changed[i,j],3)} -> solution: {x_changed}\")"
   ]
  },
  {
   "cell_type": "markdown",
   "id": "46379925b43d830e",
   "metadata": {},
   "source": [
    "---\n",
    "\n",
    "### Results:\n",
    "\n",
    "1. **Original system**: The solution is $(x,y) = (2,3)$ with a residual close to zero, which confirms that the solution satisfies the equations.\n",
    "\n",
    "2. **Small changes in the right-hand side**:\n",
    "   - Changing the second equation's right-hand side from `25.503` → `25.501` produces a noticeably different solution.\n",
    "   - Further small changes (`25.502`, `25.504`) also change the solution significantly.\n",
    "   - This shows the system is *extremely sensitive* to tiny perturbations, and the system is *ill-conditioned*.\n",
    "\n",
    "3. **Determinant and condition number**:\n",
    "   - `det(A)` is small, indicating the matrix is near singular.\n",
    "   - `cond(A)` is very large and `rcond` is very small (near 0), confirming that the system is *ill-conditioned*.\n",
    "\n",
    "4. **Sensitivity analysis on coefficients**:\n",
    "   - Increasing any single coefficient by $0.1%$ leads to large variations in the solution, further demonstrating the system’s sensitivity.\n",
    "\n",
    "**Conclusion:**\n",
    "The system is ill-conditioned. Even very small changes or errors in coefficients or measurements can produce completely unreliable solutions.\n",
    "\n",
    "---\n"
   ]
  },
  {
   "cell_type": "markdown",
   "id": "c211213e481e8700",
   "metadata": {},
   "source": [
    "---\n",
    "\n",
    "### Question 3\n",
    "\n",
    "If you are familiar with Gauss reduction it is an excellent programming exercise to code a Gauss reduction directly with operations on the rows of the augmented coefficient matrix. See if you can write a function\n",
    "\n",
    "```python\n",
    "x = mygauss(a, b)\n",
    "```\n",
    "\n",
    "to solve the general system **Ax = b**. Skillful use of the colon operator in the row operations can reduce the code to a few lines! Test it on **A** and **b** with random entries, and on the systems in Questions 1 and 2.\n",
    "\n",
    "---"
   ]
  },
  {
   "cell_type": "code",
   "execution_count": 40,
   "id": "eaf1a2d542da5a6a",
   "metadata": {
    "ExecuteTime": {
     "end_time": "2025-10-17T11:09:28.274655Z",
     "start_time": "2025-10-17T11:09:28.257820Z"
    }
   },
   "outputs": [],
   "source": [
    "def mygauss(A, b):\n",
    "    \"\"\"\n",
    "    solve Ax = b\n",
    "    A: the coefficient matrix of size n x n\n",
    "    b: the right-hand-side vector of size n\n",
    "    x: the solution vector of size n\n",
    "    \"\"\"\n",
    "    A = A.astype(float).copy()\n",
    "    b = b.astype(float).copy()\n",
    "    n = len(b)\n",
    "\n",
    "    # forward elimination\n",
    "    for i in range(n):\n",
    "        # partial pivoting: swap row with the largest pivot\n",
    "        max_row = np.argmax(np.abs(A[i:, i])) + i\n",
    "        if max_row != i:\n",
    "            A[[i, max_row]] = A[[max_row, i]]\n",
    "            b[[i, max_row]] = b[[max_row, i]]\n",
    "\n",
    "        # eliminate entries below pivot\n",
    "        for j in range(i + 1, n):\n",
    "            factor = A[j, i] / A[i, i]\n",
    "            A[j, i:] -= factor * A[i, i:]\n",
    "            b[j] -= factor * b[i]\n",
    "\n",
    "    # back substitution\n",
    "    x = np.zeros(n)\n",
    "    for i in reversed(range(n)):\n",
    "        x[i] = (b[i] - np.dot(A[i, i+1:], x[i+1:])) / A[i, i]\n",
    "    return x"
   ]
  },
  {
   "cell_type": "code",
   "execution_count": 50,
   "id": "c73174c4f58278ac",
   "metadata": {
    "ExecuteTime": {
     "end_time": "2025-10-17T12:42:10.643677Z",
     "start_time": "2025-10-17T12:42:10.636054Z"
    }
   },
   "outputs": [
    {
     "name": "stdout",
     "output_type": "stream",
     "text": [
      "Solution x = [-0.19380928  0.36860987  0.63397973]\n",
      "Residual = 2.7755575615628914e-17\n"
     ]
    }
   ],
   "source": [
    "# test on random matrix and vectors\n",
    "np.random.seed(522)\n",
    "A_rand = np.random.rand(3,3)\n",
    "b_rand = np.random.rand(3)\n",
    "x_rand = mygauss(A_rand, b_rand)\n",
    "print(\"Solution x =\", x_rand)\n",
    "print(\"Residual =\", np.linalg.norm(A_rand @ x_rand - b_rand))"
   ]
  },
  {
   "cell_type": "code",
   "execution_count": 52,
   "id": "754923147f20c874",
   "metadata": {
    "ExecuteTime": {
     "end_time": "2025-10-17T12:44:12.797778Z",
     "start_time": "2025-10-17T12:44:12.791503Z"
    }
   },
   "outputs": [
    {
     "name": "stdout",
     "output_type": "stream",
     "text": [
      "\n",
      "Question 1: solution x = [1. 0. 2.]\n"
     ]
    }
   ],
   "source": [
    "# Question 1\n",
    "A1 = np.array([[2, -1, 1],\n",
    "               [1,  1, 1],\n",
    "               [3, -1, -1]], float)\n",
    "b1 = np.array([4, 3, 1], float)\n",
    "x1 = mygauss(A1, b1)\n",
    "print(\"\\nQuestion 1: solution x =\", x1)"
   ]
  },
  {
   "cell_type": "code",
   "execution_count": 53,
   "id": "e0413cfb196d8a54",
   "metadata": {
    "ExecuteTime": {
     "end_time": "2025-10-17T12:45:01.953262Z",
     "start_time": "2025-10-17T12:45:01.945550Z"
    }
   },
   "outputs": [
    {
     "name": "stdout",
     "output_type": "stream",
     "text": [
      "\n",
      "Question 2: solution x = [2. 3.]\n"
     ]
    }
   ],
   "source": [
    "# Question 2\n",
    "A2 = np.array([[1.0, 5.0],\n",
    "               [1.5, 7.501]], float)\n",
    "b2 = np.array([17.0, 25.503], float)\n",
    "x2 = mygauss(A2, b2)\n",
    "print(\"\\nQuestion 2: solution x =\", x2)"
   ]
  },
  {
   "cell_type": "markdown",
   "id": "323859e068d125ca",
   "metadata": {},
   "source": [
    "---\n",
    "\n",
    "### Question 4\n",
    "\n",
    "Write your own function to compute the exponential function directly from the Taylor series:\n",
    "\n",
    "$$\n",
    "e^x = 1 + x + \\frac{x^2}{2!} + \\frac{x^3}{3!} + \\dots\n",
    "$$\n",
    "\n",
    "The series should end when the last term is less than $10^{-6}$.\n",
    "Test your function against the built-in function `exp`, but be careful not to make $x$ too large — this could cause rounding error.\n",
    "\n",
    "---\n"
   ]
  },
  {
   "cell_type": "code",
   "execution_count": 2,
   "id": "df7086c9679e46b2",
   "metadata": {
    "ExecuteTime": {
     "end_time": "2025-10-17T12:58:01.609749Z",
     "start_time": "2025-10-17T12:58:01.601998Z"
    }
   },
   "outputs": [],
   "source": [
    "def calculate_exp(x):\n",
    "    # 1e-6 is used as the stopping condition\n",
    "\n",
    "    term = 1.0\n",
    "    sum = term\n",
    "    n = 1\n",
    "    while abs(term) > 1e-6:\n",
    "        term *= x/n\n",
    "        sum += term\n",
    "        n += 1\n",
    "    return sum"
   ]
  },
  {
   "cell_type": "code",
   "execution_count": 4,
   "id": "d6c1c43296c3c11b",
   "metadata": {
    "ExecuteTime": {
     "end_time": "2025-10-17T13:11:45.173333Z",
     "start_time": "2025-10-17T13:11:45.164803Z"
    }
   },
   "outputs": [
    {
     "name": "stdout",
     "output_type": "stream",
     "text": [
      "x\tdifference\tcalculate_exp(x)\t math.exp(x)\n",
      "-1\t2.311427e-08\t0.367879\t0.367879\n",
      "0\t0.000000e+00\t1.000000\t1.000000\n",
      "1\t2.731266e-08\t2.718282\t2.718282\n",
      "2\t2.860474e-08\t7.389056\t7.389056\n",
      "5\t1.198070e-07\t148.413159\t148.413159\n",
      "10\t2.563938e-07\t22026.465795\t22026.465795\n",
      "20\t0.000000e+00\t485165195.409790\t485165195.409790\n"
     ]
    }
   ],
   "source": [
    "test_values = [-1, 0, 1, 2, 5, 10, 20]\n",
    "print(\"x\\tdifference\\tcalculate_exp(x)\\t math.exp(x)\")\n",
    "for x in test_values:\n",
    "    my_val = calculate_exp(x)\n",
    "    true_val = math.exp(x)\n",
    "    print(f\"{x}\\t{abs(my_val - true_val):.6e}\\t{my_val:.6f}\\t{true_val:.6f}\")"
   ]
  },
  {
   "cell_type": "markdown",
   "id": "84c9024c",
   "metadata": {},
   "source": [
    "---\n",
    "\n",
    "### Question 5\n",
    "\n",
    "If a random variable $X$ is distributed normally with zero mean and unit standard deviation, the\n",
    "probability that $0 \\leq X \\leq x$ is given by the standard normal function $\\Phi(x)$. This is usually looked\n",
    "up in tables, but it may be approximated as follows:\n",
    "\n",
    "$$\n",
    "\\Phi(x) = 0.5 - r\\bigl(a t + b t^2 + c t^3\\bigr),\n",
    "$$\n",
    "\n",
    "where\n",
    "$$\n",
    "a = 0.4361836,\\quad b = -0.1201676,\\quad c = 0.937298,\n",
    "$$\n",
    "$$\n",
    "r = \\frac{\\exp(-0.5 x^2)}{\\sqrt{2\\pi}},\\quad t = \\frac{1}{1 + 0.3326\\,x}.\n",
    "$$\n",
    "\n",
    "Write a function to compute $\\Phi(x)$, and use it in a program to write out its values for $0 \\leq x \\leq 4$ in steps of 0.1. Check: $\\Phi(1) = 0.3413.$\n",
    "\n",
    "---\n"
   ]
  },
  {
   "cell_type": "code",
   "execution_count": 5,
   "id": "ee59a4365b730cc7",
   "metadata": {},
   "outputs": [],
   "source": [
    "def calculate_phi_function(x):\n",
    "    a = 0.4361836\n",
    "    b = -0.1201676\n",
    "    c = 0.937298\n",
    "    r = np.exp(-0.5 * x**2) / np.sqrt(2 * np.pi)\n",
    "    t = 1 / (1 + 0.3326 * x)\n",
    "    return 0.5 - r * (a*t + b*t**2 + c*t**3)"
   ]
  },
  {
   "cell_type": "code",
   "execution_count": 6,
   "id": "27877b29",
   "metadata": {},
   "outputs": [
    {
     "name": "stdout",
     "output_type": "stream",
     "text": [
      "x\tcalculate_phi_function(x)\n",
      "0.0\t0.0000\n",
      "0.1\t0.0398\n",
      "0.2\t0.0793\n",
      "0.3\t0.1179\n",
      "0.4\t0.1554\n",
      "0.5\t0.1914\n",
      "0.6\t0.2257\n",
      "0.7\t0.2580\n",
      "0.8\t0.2881\n",
      "0.9\t0.3159\n",
      "1.0\t0.3413\n",
      "1.1\t0.3643\n",
      "1.2\t0.3849\n",
      "1.3\t0.4032\n",
      "1.4\t0.4192\n",
      "1.5\t0.4332\n",
      "1.6\t0.4452\n",
      "1.7\t0.4554\n",
      "1.8\t0.4641\n",
      "1.9\t0.4713\n",
      "2.0\t0.4772\n",
      "2.1\t0.4821\n",
      "2.2\t0.4861\n",
      "2.3\t0.4893\n",
      "2.4\t0.4918\n",
      "2.5\t0.4938\n",
      "2.6\t0.4953\n",
      "2.7\t0.4965\n",
      "2.8\t0.4974\n",
      "2.9\t0.4981\n",
      "3.0\t0.4986\n",
      "3.1\t0.4990\n",
      "3.2\t0.4993\n",
      "3.3\t0.4995\n",
      "3.4\t0.4997\n",
      "3.5\t0.4998\n",
      "3.6\t0.4998\n",
      "3.7\t0.4999\n",
      "3.8\t0.4999\n",
      "3.9\t0.5000\n",
      "4.0\t0.5000\n"
     ]
    }
   ],
   "source": [
    "x_values = np.arange(0, 4.1, 0.1)\n",
    "\n",
    "print(\"x\\tcalculate_phi_function(x)\")\n",
    "for x in x_values:\n",
    "    print(f\"{x:.1f}\\t{calculate_phi_function(x):.4f}\")"
   ]
  },
  {
   "cell_type": "code",
   "execution_count": 8,
   "id": "68a73656",
   "metadata": {},
   "outputs": [
    {
     "name": "stdout",
     "output_type": "stream",
     "text": [
      "\n",
      "check for x = 1: Φ(1) = 0.3413\n"
     ]
    }
   ],
   "source": [
    "print(\"\\ncheck for x = 1: Φ(1) =\", round(calculate_phi_function(1),4))"
   ]
  },
  {
   "cell_type": "markdown",
   "id": "e92f5dd0",
   "metadata": {},
   "source": [
    "---\n",
    "\n",
    "### Question 6.a\n",
    "\n",
    "There are many formulae for computing π (the ratio of a circle’s circumference to its diameter).  \n",
    "The simplest is:\n",
    "\n",
    "$$\n",
    "\\frac{\\pi}{4} = 1 - \\frac{1}{3} + \\frac{1}{5} - \\frac{1}{7} + \\frac{1}{9} - \\dots \\tag{1}\n",
    "$$\n",
    "\n",
    "which comes from putting $x = 1$ in the series:\n",
    "\n",
    "$$\n",
    "\\arctan x = x - \\frac{x^3}{3} + \\frac{x^5}{5} - \\frac{x^7}{7} + \\frac{x^9}{9} - \\dots \\tag{2}\n",
    "$$\n",
    "\n",
    "\n",
    "a. Write a program to compute π using Equation (1). Use as many terms in the series as your computer will reasonably allow (start modestly, with 100 terms, say, and re-run your program with more and more each time). You should find that the series converges very slowly, i.e., it takes a lot of terms to get fairly close to π.  \n",
    "\n",
    "---\n"
   ]
  },
  {
   "cell_type": "code",
   "execution_count": 12,
   "id": "ed8fd167",
   "metadata": {},
   "outputs": [],
   "source": [
    "def calculate_pi_by_given_series(n_terms):\n",
    "    terms = np.arange(n_terms)\n",
    "    series = (-1)**terms / (2*terms + 1)\n",
    "    return 4 * np.sum(series)"
   ]
  },
  {
   "cell_type": "code",
   "execution_count": 16,
   "id": "c609a66f",
   "metadata": {},
   "outputs": [
    {
     "name": "stdout",
     "output_type": "stream",
     "text": [
      "6.a) calculated pi using given series: 3.1405926538\n"
     ]
    }
   ],
   "source": [
    "n_terms = 1000\n",
    "pi_a = calculate_pi_by_given_series(n_terms)\n",
    "print(\"6.a) calculated pi using given series: {:.10f}\".format(pi_a))"
   ]
  },
  {
   "cell_type": "markdown",
   "id": "a0014fb4",
   "metadata": {},
   "source": [
    "---\n",
    "\n",
    "### Question 6.b\n",
    "\n",
    "\n",
    "b. Rearranging the series speeds up the convergence:\n",
    "\n",
    "$$\n",
    "\\frac{\\pi}{8} = \\frac{1}{1 \\times 3} + \\frac{1}{5 \\times 7} + \\frac{1}{9 \\times 11} + \\dots\n",
    "$$\n",
    "\n",
    "Write a program to compute π using this series instead. You should find that you need fewer terms to reach the same level of accuracy that you got in (a).  \n",
    "\n",
    "\n",
    "---\n"
   ]
  },
  {
   "cell_type": "code",
   "execution_count": 17,
   "id": "230ecae7",
   "metadata": {},
   "outputs": [],
   "source": [
    "def calculate_pi_by_fast_series(n_terms):\n",
    "    k = np.arange(n_terms)\n",
    "    series = 1 / ((4*k + 1) * (4*k + 3))\n",
    "    return 8 * np.sum(series)"
   ]
  },
  {
   "cell_type": "code",
   "execution_count": 18,
   "id": "8d313da1",
   "metadata": {},
   "outputs": [
    {
     "name": "stdout",
     "output_type": "stream",
     "text": [
      "6.b) calculated pi using given faster series: 3.1365926848\n"
     ]
    }
   ],
   "source": [
    "n_terms_b = 100\n",
    "pi_b = calculate_pi_by_fast_series(n_terms_b)\n",
    "print(\"6.b) calculated pi using given faster series: {:.10f}\".format(pi_b))"
   ]
  },
  {
   "cell_type": "markdown",
   "id": "60e3e2bc",
   "metadata": {},
   "source": [
    "---\n",
    "\n",
    "### Question 6.c\n",
    "\n",
    "\n",
    "c. One of the fastest series for π is:\n",
    "\n",
    "$$\n",
    "\\frac{\\pi}{4} = 6 \\arctan \\frac{1}{8} + 2 \\arctan \\frac{1}{57} + \\arctan \\frac{1}{239}\n",
    "$$\n",
    "\n",
    "Use this formula to compute π. Don’t use the built-in function `atan` to compute the arctangents, since that would be cheating. Rather use Equation (2).  \n",
    "\n",
    "\n",
    "---\n"
   ]
  },
  {
   "cell_type": "code",
   "execution_count": 19,
   "id": "ad7578ee",
   "metadata": {},
   "outputs": [],
   "source": [
    "def calculate_pi_by_arctan_series(x, n_terms=100):\n",
    "    k = np.arange(n_terms)\n",
    "    series = (-1)**k * x**(2*k + 1) / (2*k + 1)\n",
    "    return np.sum(series)"
   ]
  },
  {
   "cell_type": "code",
   "execution_count": 21,
   "id": "fa9f6939",
   "metadata": {},
   "outputs": [
    {
     "name": "stdout",
     "output_type": "stream",
     "text": [
      "6.c) calculated pi using arctan series: 3.1415926536\n"
     ]
    }
   ],
   "source": [
    "pi_c = 4 * (6*calculate_pi_by_arctan_series(1/8) + 2*calculate_pi_by_arctan_series(1/57) + calculate_pi_by_arctan_series(1/239))\n",
    "print(\"6.c) calculated pi using arctan series: {:.10f}\".format(pi_c))"
   ]
  },
  {
   "cell_type": "markdown",
   "id": "f1d52ca5",
   "metadata": {},
   "source": [
    "---\n",
    "\n",
    "### Question 6.d\n",
    "\n",
    "\n",
    "d. Can you vectorize any of your solutions (if you haven’t already)?\n",
    "\n",
    "---\n"
   ]
  },
  {
   "cell_type": "code",
   "execution_count": 23,
   "id": "e65651c6",
   "metadata": {},
   "outputs": [
    {
     "name": "stdout",
     "output_type": "stream",
     "text": [
      "All the calculations above are vectorized by using numpy arrays.\n"
     ]
    }
   ],
   "source": [
    "print(\"All the calculations above are vectorized by using numpy arrays.\")"
   ]
  },
  {
   "cell_type": "markdown",
   "id": "87eebd77",
   "metadata": {},
   "source": [
    "---\n",
    "\n",
    "### Question 7\n",
    "\n",
    "The following method of computing π is due to Archimedes:\n",
    "\n",
    "1. Let \\(A = 1\\) and \\(N = 6\\)  \n",
    "2. Repeat 10 times, say:  \n",
    "   - Replace \\(N\\) by \\(2N\\)  \n",
    "   - Replace \\(A\\) by \n",
    "     $$\n",
    "     A \\gets \\sqrt{2 - \\sqrt{4 - A^2}}\n",
    "     $$  \n",
    "   - Let \n",
    "     $$\n",
    "     L = \\frac{N \\cdot A}{2}\n",
    "     $$  \n",
    "   - Let \n",
    "     $$\n",
    "     U = \\frac{L}{\\sqrt{1 - A^2/2}}\n",
    "     $$  \n",
    "   - Let \n",
    "     $$\n",
    "     P = \\frac{U + L}{2} \\quad \\text{(estimate of } \\pi\\text{)}\n",
    "     $$  \n",
    "   - Let \n",
    "     $$\n",
    "     E = \\frac{U - L}{2} \\quad \\text{(estimate of error)}\n",
    "     $$  \n",
    "   - Print \\(N\\), \\(P\\), \\(E\\)  \n",
    "3. Stop.  \n",
    "\n",
    "Write a program to implement the algorithm.\n",
    "\n",
    "---\n"
   ]
  },
  {
   "cell_type": "code",
   "execution_count": 27,
   "id": "02e75e8a",
   "metadata": {},
   "outputs": [
    {
     "name": "stdout",
     "output_type": "stream",
     "text": [
      "Iter\tN\tP (pi estimate)\tE (error estimate)\n",
      "1\t12\t3.22162925\t0.11580071\n",
      "2\t24\t3.16001597\t0.02738736\n",
      "3\t48\t3.14610799\t0.00675779\n",
      "4\t96\t3.14271595\t0.00168400\n",
      "5\t192\t3.14187313\t0.00042066\n",
      "6\t384\t3.14166275\t0.00010514\n",
      "7\t768\t3.14161018\t0.00002628\n",
      "8\t1536\t3.14159703\t0.00000657\n",
      "9\t3072\t3.14159375\t0.00000164\n",
      "10\t6144\t3.14159293\t0.00000041\n"
     ]
    }
   ],
   "source": [
    "A = 1.0\n",
    "N = 6\n",
    "\n",
    "print(\"Iter\\tN\\tP (pi estimate)\\tE (error estimate)\")\n",
    "for i in range(10):\n",
    "    N = 2 * N\n",
    "    \n",
    "    A = math.sqrt(2 - math.sqrt(4 - A**2))\n",
    "\n",
    "    L = N * A / 2\n",
    "    U = L / (math.sqrt(1 - A**2 / 2))\n",
    "    \n",
    "    P = (U + L) / 2\n",
    "    E = (U - L) / 2\n",
    "\n",
    "    print(f\"{i+1}\\t{N}\\t{P:.8f}\\t{E:.8f}\")"
   ]
  },
  {
   "cell_type": "markdown",
   "id": "8d2a0567",
   "metadata": {},
   "source": [
    "---\n",
    "\n",
    "### Question 8\n",
    "\n",
    "If an amount of money $A$ is invested for $k$ years at a nominal annual interest rate $r$ (expressed as a decimal fraction), the value $V$ of the investment after $k$ years is given by:\n",
    "\n",
    "$$\n",
    "V = A \\left(1 + \\frac{r}{n}\\right)^{n k}\n",
    "$$\n",
    "\n",
    "where $n$ is the number of compounding periods per year.  \n",
    "\n",
    "Write a program to compute $V$ as $n$ gets larger and larger, i.e., as the compounding periods become more and more frequent, like monthly, daily, hourly, etc. Take $A = 1000$, $r = 0.04$ (4 per cent) and $k = 10$ years. You should observe that your output gradually approaches a limit.  \n",
    "\n",
    "**Hint:** Use a for loop which doubles \\(n\\) each time, starting with $n = 1$.  \n",
    "\n",
    "Also compute the value of the formula $A e^{r k}$ for the same values of $A$, $r$, and $k$ (use the `exp` function), and compare this value with the values of $V$ computed above. What do you conclude?\n",
    "\n",
    "---\n"
   ]
  },
  {
   "cell_type": "code",
   "execution_count": 28,
   "id": "b5f52dc7",
   "metadata": {},
   "outputs": [
    {
     "name": "stdout",
     "output_type": "stream",
     "text": [
      "n\tV (compounded)\tV (continuous)\n",
      "1\t1480.244285\t1491.824698\n",
      "2\t1485.947396\t1491.824698\n",
      "4\t1488.863734\t1491.824698\n",
      "8\t1490.338568\t1491.824698\n",
      "16\t1491.080212\t1491.824698\n",
      "32\t1491.452099\t1491.824698\n",
      "64\t1491.638309\t1491.824698\n",
      "128\t1491.731481\t1491.824698\n",
      "256\t1491.778084\t1491.824698\n",
      "512\t1491.801389\t1491.824698\n",
      "\n",
      "Continuous compounding value: 1491.824698\n"
     ]
    }
   ],
   "source": [
    "A = 1000\n",
    "r = 0.04  \n",
    "k = 10\n",
    "\n",
    "n = 1\n",
    "print(\"n\\tV (compounded)\\tV (continuous)\")\n",
    "for i in range(10):\n",
    "    V = A * (1 + r/n)**(n*k)\n",
    "    V_cont = A * np.exp(r*k)\n",
    "    print(f\"{n}\\t{V:.6f}\\t{V_cont:.6f}\")\n",
    "    n *= 2\n",
    "\n",
    "print(\"\\nContinuous compounding value: {:.6f}\".format(V_cont))\n"
   ]
  },
  {
   "cell_type": "markdown",
   "id": "c334c8c6",
   "metadata": {},
   "source": [
    "- As the number of compounding periods n increases, the value V of the investment converges to the calculated continuous compounding value.\n",
    "\n",
    "- This shows that the continous compunding value is an upper limit for compounded value and this value approaches to the continous compounding value as the compounding frequence increases."
   ]
  }
 ],
 "metadata": {
  "kernelspec": {
   "display_name": "Python 3",
   "language": "python",
   "name": "python3"
  },
  "language_info": {
   "codemirror_mode": {
    "name": "ipython",
    "version": 3
   },
   "file_extension": ".py",
   "mimetype": "text/x-python",
   "name": "python",
   "nbconvert_exporter": "python",
   "pygments_lexer": "ipython3",
   "version": "3.12.1"
  }
 },
 "nbformat": 4,
 "nbformat_minor": 5
}
